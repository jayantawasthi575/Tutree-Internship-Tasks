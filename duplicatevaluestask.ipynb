{
 "cells": [
  {
   "cell_type": "markdown",
   "metadata": {},
   "source": [
    "# By Jayant Awasthi"
   ]
  },
  {
   "cell_type": "code",
   "execution_count": 1,
   "metadata": {},
   "outputs": [],
   "source": [
    "import pandas as pd\n",
    "wrestler=pd.read_csv(\"wrestler.csv\")"
   ]
  },
  {
   "cell_type": "code",
   "execution_count": 2,
   "metadata": {},
   "outputs": [
    {
     "data": {
      "text/html": [
       "<div>\n",
       "<style scoped>\n",
       "    .dataframe tbody tr th:only-of-type {\n",
       "        vertical-align: middle;\n",
       "    }\n",
       "\n",
       "    .dataframe tbody tr th {\n",
       "        vertical-align: top;\n",
       "    }\n",
       "\n",
       "    .dataframe thead th {\n",
       "        text-align: right;\n",
       "    }\n",
       "</style>\n",
       "<table border=\"1\" class=\"dataframe\">\n",
       "  <thead>\n",
       "    <tr style=\"text-align: right;\">\n",
       "      <th></th>\n",
       "      <th>Name</th>\n",
       "      <th>country</th>\n",
       "      <th>age</th>\n",
       "      <th>salary(in million)</th>\n",
       "    </tr>\n",
       "  </thead>\n",
       "  <tbody>\n",
       "    <tr>\n",
       "      <td>0</td>\n",
       "      <td>John Cena</td>\n",
       "      <td>USA</td>\n",
       "      <td>43</td>\n",
       "      <td>10</td>\n",
       "    </tr>\n",
       "    <tr>\n",
       "      <td>1</td>\n",
       "      <td>John Cena</td>\n",
       "      <td>USA</td>\n",
       "      <td>43</td>\n",
       "      <td>10</td>\n",
       "    </tr>\n",
       "    <tr>\n",
       "      <td>2</td>\n",
       "      <td>John Cena</td>\n",
       "      <td>USA</td>\n",
       "      <td>43</td>\n",
       "      <td>10</td>\n",
       "    </tr>\n",
       "    <tr>\n",
       "      <td>3</td>\n",
       "      <td>Undertaker</td>\n",
       "      <td>USA</td>\n",
       "      <td>55</td>\n",
       "      <td>9</td>\n",
       "    </tr>\n",
       "    <tr>\n",
       "      <td>4</td>\n",
       "      <td>Undertaker</td>\n",
       "      <td>USA</td>\n",
       "      <td>55</td>\n",
       "      <td>9</td>\n",
       "    </tr>\n",
       "    <tr>\n",
       "      <td>5</td>\n",
       "      <td>Undertaker</td>\n",
       "      <td>USA</td>\n",
       "      <td>55</td>\n",
       "      <td>9</td>\n",
       "    </tr>\n",
       "    <tr>\n",
       "      <td>6</td>\n",
       "      <td>TripleH</td>\n",
       "      <td>USA</td>\n",
       "      <td>51</td>\n",
       "      <td>12</td>\n",
       "    </tr>\n",
       "    <tr>\n",
       "      <td>7</td>\n",
       "      <td>TripleH</td>\n",
       "      <td>USA</td>\n",
       "      <td>51</td>\n",
       "      <td>12</td>\n",
       "    </tr>\n",
       "    <tr>\n",
       "      <td>8</td>\n",
       "      <td>Brock Lesnor</td>\n",
       "      <td>Canada</td>\n",
       "      <td>43</td>\n",
       "      <td>9</td>\n",
       "    </tr>\n",
       "    <tr>\n",
       "      <td>9</td>\n",
       "      <td>John Cena</td>\n",
       "      <td>USA</td>\n",
       "      <td>43</td>\n",
       "      <td>10</td>\n",
       "    </tr>\n",
       "    <tr>\n",
       "      <td>10</td>\n",
       "      <td>Daniel Bryan</td>\n",
       "      <td>USA</td>\n",
       "      <td>39</td>\n",
       "      <td>8</td>\n",
       "    </tr>\n",
       "    <tr>\n",
       "      <td>11</td>\n",
       "      <td>Asuka</td>\n",
       "      <td>Japan</td>\n",
       "      <td>39</td>\n",
       "      <td>7</td>\n",
       "    </tr>\n",
       "    <tr>\n",
       "      <td>12</td>\n",
       "      <td>Asuka</td>\n",
       "      <td>Japan</td>\n",
       "      <td>39</td>\n",
       "      <td>7</td>\n",
       "    </tr>\n",
       "    <tr>\n",
       "      <td>13</td>\n",
       "      <td>John Cena</td>\n",
       "      <td>Canada</td>\n",
       "      <td>43</td>\n",
       "      <td>10</td>\n",
       "    </tr>\n",
       "    <tr>\n",
       "      <td>14</td>\n",
       "      <td>Undertaker</td>\n",
       "      <td>USA</td>\n",
       "      <td>54</td>\n",
       "      <td>8</td>\n",
       "    </tr>\n",
       "  </tbody>\n",
       "</table>\n",
       "</div>"
      ],
      "text/plain": [
       "            Name country  age  salary(in million)\n",
       "0      John Cena     USA   43                  10\n",
       "1      John Cena     USA   43                  10\n",
       "2      John Cena     USA   43                  10\n",
       "3     Undertaker     USA   55                   9\n",
       "4     Undertaker     USA   55                   9\n",
       "5     Undertaker     USA   55                   9\n",
       "6        TripleH     USA   51                  12\n",
       "7        TripleH     USA   51                  12\n",
       "8   Brock Lesnor  Canada   43                   9\n",
       "9      John Cena     USA   43                  10\n",
       "10  Daniel Bryan     USA   39                   8\n",
       "11         Asuka   Japan   39                   7\n",
       "12         Asuka   Japan   39                   7\n",
       "13     John Cena  Canada   43                  10\n",
       "14    Undertaker     USA   54                   8"
      ]
     },
     "execution_count": 2,
     "metadata": {},
     "output_type": "execute_result"
    }
   ],
   "source": [
    "wrestler"
   ]
  },
  {
   "cell_type": "markdown",
   "metadata": {},
   "source": [
    "It is a csv file containing Name,Country,Age and Salary of Wrestlers"
   ]
  },
  {
   "cell_type": "markdown",
   "metadata": {},
   "source": [
    "We can clearly see that {0,1,2},{3,4,5},{6,7},{11,12} contain Duplicate values"
   ]
  },
  {
   "cell_type": "markdown",
   "metadata": {},
   "source": [
    "Index 13 John Cena is different from Index{0,1,2} John Cena they are different persons having same name,age,salary but different country"
   ]
  },
  {
   "cell_type": "markdown",
   "metadata": {},
   "source": [
    "Index 14 Undertaker is different from Index{3,4,5}Undertaker they are different persons having same Name,Country but different age and Salary"
   ]
  },
  {
   "cell_type": "code",
   "execution_count": 3,
   "metadata": {},
   "outputs": [],
   "source": [
    "def removeduplicate(wrestle):\n",
    "    columnss=[]\n",
    "    flag=0\n",
    "    for i in wrestle.columns:\n",
    "        columnss.append(i)\n",
    "    index_of_duplicate=[]\n",
    "    dictionary_of_duplicate={}\n",
    "    total_number_of_column=len(columnss)\n",
    "    for counter in range(len(wrestle)):\n",
    "        for counter_m in range(len(wrestle)):\n",
    "            for column in columnss:\n",
    "                if counter==counter_m:\n",
    "                    no_use_variable=0\n",
    "                else:\n",
    "                    if wrestle[column].iloc[counter]==wrestle[column].iloc[counter_m]:\n",
    "                        flag=flag+1\n",
    "                if flag==total_number_of_column:\n",
    "                    if counter_m not in index_of_duplicate:\n",
    "                        index_of_duplicate.append(counter_m)\n",
    "                    if counter not in index_of_duplicate:\n",
    "                        index_of_duplicate.append(counter)\n",
    "                    index_of_duplicate.sort()\n",
    "                    dictionary_of_duplicate[wrestle[columnss[0]].iloc[counter]]=index_of_duplicate\n",
    "            flag=0\n",
    "        index_of_duplicate=[]\n",
    "    for col,inde in dictionary_of_duplicate.items():\n",
    "        flag_a=1\n",
    "        for ind in inde:\n",
    "            if flag_a>1:\n",
    "                wrestle.drop(ind,inplace=True)\n",
    "            flag_a=flag_a+1\n",
    "    wrestle.reset_index(drop=True,inplace=True)"
   ]
  },
  {
   "cell_type": "markdown",
   "metadata": {},
   "source": [
    "I have created the above removeduplicate function to handle Duplicate Values in a dataframe"
   ]
  },
  {
   "cell_type": "markdown",
   "metadata": {},
   "source": [
    "This is generalised function and it will work for any dataframe"
   ]
  },
  {
   "cell_type": "markdown",
   "metadata": {},
   "source": [
    "to use the above function one have to just type:"
   ]
  },
  {
   "cell_type": "markdown",
   "metadata": {},
   "source": [
    "removeduplicate(dataframename)"
   ]
  },
  {
   "cell_type": "markdown",
   "metadata": {},
   "source": [
    "{{I made a little generalisation error earlier, now this commit is fine and generalised function is ready to work with every dataframe }}"
   ]
  },
  {
   "cell_type": "markdown",
   "metadata": {},
   "source": [
    "Let try it on our wrestler dataframe"
   ]
  },
  {
   "cell_type": "code",
   "execution_count": 4,
   "metadata": {},
   "outputs": [],
   "source": [
    "removeduplicate(wrestler)"
   ]
  },
  {
   "cell_type": "code",
   "execution_count": 5,
   "metadata": {},
   "outputs": [
    {
     "data": {
      "text/html": [
       "<div>\n",
       "<style scoped>\n",
       "    .dataframe tbody tr th:only-of-type {\n",
       "        vertical-align: middle;\n",
       "    }\n",
       "\n",
       "    .dataframe tbody tr th {\n",
       "        vertical-align: top;\n",
       "    }\n",
       "\n",
       "    .dataframe thead th {\n",
       "        text-align: right;\n",
       "    }\n",
       "</style>\n",
       "<table border=\"1\" class=\"dataframe\">\n",
       "  <thead>\n",
       "    <tr style=\"text-align: right;\">\n",
       "      <th></th>\n",
       "      <th>Name</th>\n",
       "      <th>country</th>\n",
       "      <th>age</th>\n",
       "      <th>salary(in million)</th>\n",
       "    </tr>\n",
       "  </thead>\n",
       "  <tbody>\n",
       "    <tr>\n",
       "      <td>0</td>\n",
       "      <td>John Cena</td>\n",
       "      <td>USA</td>\n",
       "      <td>43</td>\n",
       "      <td>10</td>\n",
       "    </tr>\n",
       "    <tr>\n",
       "      <td>1</td>\n",
       "      <td>Undertaker</td>\n",
       "      <td>USA</td>\n",
       "      <td>55</td>\n",
       "      <td>9</td>\n",
       "    </tr>\n",
       "    <tr>\n",
       "      <td>2</td>\n",
       "      <td>TripleH</td>\n",
       "      <td>USA</td>\n",
       "      <td>51</td>\n",
       "      <td>12</td>\n",
       "    </tr>\n",
       "    <tr>\n",
       "      <td>3</td>\n",
       "      <td>Brock Lesnor</td>\n",
       "      <td>Canada</td>\n",
       "      <td>43</td>\n",
       "      <td>9</td>\n",
       "    </tr>\n",
       "    <tr>\n",
       "      <td>4</td>\n",
       "      <td>Daniel Bryan</td>\n",
       "      <td>USA</td>\n",
       "      <td>39</td>\n",
       "      <td>8</td>\n",
       "    </tr>\n",
       "    <tr>\n",
       "      <td>5</td>\n",
       "      <td>Asuka</td>\n",
       "      <td>Japan</td>\n",
       "      <td>39</td>\n",
       "      <td>7</td>\n",
       "    </tr>\n",
       "    <tr>\n",
       "      <td>6</td>\n",
       "      <td>John Cena</td>\n",
       "      <td>Canada</td>\n",
       "      <td>43</td>\n",
       "      <td>10</td>\n",
       "    </tr>\n",
       "    <tr>\n",
       "      <td>7</td>\n",
       "      <td>Undertaker</td>\n",
       "      <td>USA</td>\n",
       "      <td>54</td>\n",
       "      <td>8</td>\n",
       "    </tr>\n",
       "  </tbody>\n",
       "</table>\n",
       "</div>"
      ],
      "text/plain": [
       "           Name country  age  salary(in million)\n",
       "0     John Cena     USA   43                  10\n",
       "1    Undertaker     USA   55                   9\n",
       "2       TripleH     USA   51                  12\n",
       "3  Brock Lesnor  Canada   43                   9\n",
       "4  Daniel Bryan     USA   39                   8\n",
       "5         Asuka   Japan   39                   7\n",
       "6     John Cena  Canada   43                  10\n",
       "7    Undertaker     USA   54                   8"
      ]
     },
     "execution_count": 5,
     "metadata": {},
     "output_type": "execute_result"
    }
   ],
   "source": [
    "wrestler"
   ]
  },
  {
   "cell_type": "markdown",
   "metadata": {},
   "source": [
    "We clearly see that the above function remove every duplicate values from dataframe"
   ]
  },
  {
   "cell_type": "markdown",
   "metadata": {},
   "source": [
    "Index {0,7},{1,7} are different persons having same name"
   ]
  }
 ],
 "metadata": {
  "kernelspec": {
   "display_name": "Python 3",
   "language": "python",
   "name": "python3"
  },
  "language_info": {
   "codemirror_mode": {
    "name": "ipython",
    "version": 3
   },
   "file_extension": ".py",
   "mimetype": "text/x-python",
   "name": "python",
   "nbconvert_exporter": "python",
   "pygments_lexer": "ipython3",
   "version": "3.7.4"
  }
 },
 "nbformat": 4,
 "nbformat_minor": 2
}
